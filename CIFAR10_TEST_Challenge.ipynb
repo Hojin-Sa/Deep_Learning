{
  "nbformat": 4,
  "nbformat_minor": 0,
  "metadata": {
    "colab": {
      "name": "CIFAR10_TEST_Challenge.ipynb",
      "provenance": [],
      "collapsed_sections": [],
      "authorship_tag": "ABX9TyMaptClMApbDFZsC92nVG6z",
      "include_colab_link": true
    },
    "kernelspec": {
      "name": "python3",
      "display_name": "Python 3"
    },
    "language_info": {
      "name": "python"
    },
    "accelerator": "GPU"
  },
  "cells": [
    {
      "cell_type": "markdown",
      "metadata": {
        "id": "view-in-github",
        "colab_type": "text"
      },
      "source": [
        "<a href=\"https://colab.research.google.com/github/Hojin-Sa/Deep_Learning/blob/main/CIFAR10_TEST_Challenge.ipynb\" target=\"_parent\"><img src=\"https://colab.research.google.com/assets/colab-badge.svg\" alt=\"Open In Colab\"/></a>"
      ]
    },
    {
      "cell_type": "markdown",
      "metadata": {
        "id": "IShTXCyRzWCX"
      },
      "source": [
        "# CIFAR10을 CNN으로 학습하기. 여러 학습방법으로 비교!"
      ]
    },
    {
      "cell_type": "code",
      "metadata": {
        "id": "emHhGwG6uosd"
      },
      "source": [
        "import numpy as np\n",
        "import torch\n",
        "import torch.nn as nn\n",
        "import torch.optim as optim\n",
        "import torch.nn.init as init\n",
        "import torchvision.datasets as dset\n",
        "import torchvision.transforms as transforms\n",
        "from torch.utils.data import DataLoader\n",
        "from torch.autograd import Variable\n",
        "import matplotlib.pyplot as plt\n",
        "\n",
        "#(8) learning rate decay\n",
        "from torch.optim import lr_scheduler\n",
        "\n",
        "batch_size=16\n",
        "learning_rate=0.006\n",
        "num_epoch=100"
      ],
      "execution_count": 57,
      "outputs": []
    },
    {
      "cell_type": "markdown",
      "metadata": {
        "id": "xIFPQlp_zHHn"
      },
      "source": [
        "## 1. CIFAR10 train, test dataset 가져오기 (163MB)"
      ]
    },
    {
      "cell_type": "code",
      "metadata": {
        "id": "64ym73H9zjB1",
        "colab": {
          "base_uri": "https://localhost:8080/",
          "height": 0
        },
        "outputId": "04e6cc79-56b8-4e2c-a069-b7ff9e6d4f8c"
      },
      "source": [
        "#cifar_train=dset.CIFAR10(\"CIFAR10/\",train=True, transform=transforms.ToTensor(), target_transform=None, download=True)\n",
        "# (2) Data augmentation\n",
        "#cifar_train=dset.CIFAR10(\"CIFAR10/\", train=True,\n",
        "#                         transform=transforms.Compose([\n",
        "#                             transforms.Resize(36),\n",
        "#                             transforms.CenterCrop(32),\n",
        "#                             transforms.RandomHorizontalFlip(),\n",
        "#                             transforms.Lambda(lambda x: x.rotate(90)),\n",
        "#                             transforms.ToTensor()\n",
        "#                         ]))\n",
        "\n",
        "\n",
        "#cifar_test=dset.CIFAR10(\"CIFAR10/\",train=False, transform=transforms.ToTensor(), target_transform=None, download=True)\n",
        "\n",
        "#(4) Data Normalization\n",
        "cifar_train = dset.CIFAR10(\"CIFAR10/\", train=True,\n",
        "                           transform=transforms.Compose([\n",
        "                                transforms.ToTensor(),\n",
        "                                transforms.Normalize(mean=(0.5,0.5,0.5), std=(0.5,0.5,0.5)),                         \n",
        "                           ])\n",
        "                           , target_transform=None, download=True)\n",
        "cifar_test = dset.CIFAR10(\"CIFAR10/\", train=False,\n",
        "                           transform=transforms.Compose([\n",
        "                                transforms.ToTensor(),\n",
        "                                transforms.Normalize(mean=(0.5,0.5,0.5), std=(0.5,0.5,0.5)),                         \n",
        "                           ])\n",
        "                           , target_transform=None, download=False)\n",
        "\n"
      ],
      "execution_count": 58,
      "outputs": [
        {
          "output_type": "stream",
          "text": [
            "Files already downloaded and verified\n"
          ],
          "name": "stdout"
        }
      ]
    },
    {
      "cell_type": "markdown",
      "metadata": {
        "id": "HnHCh5ZO8eEK"
      },
      "source": [
        "## 2. 대략적인 데이터 형태"
      ]
    },
    {
      "cell_type": "code",
      "metadata": {
        "colab": {
          "base_uri": "https://localhost:8080/",
          "height": 369
        },
        "id": "yLSaFYXx8b50",
        "outputId": "12e6a989-aa37-4d44-8d32-bc281813c6b2"
      },
      "source": [
        "print (\"cifar_train 길이:\", len(cifar_train))\n",
        "print (\"cifar_test 길이:\", len(cifar_test))\n",
        "\n",
        "#데이터 하나 형태\n",
        "image, label = cifar_train.__getitem__(22341) # 22341번째 데이터\n",
        "print(\"image data 형태:\", image.size())\n",
        "print(\"label: \", label)\n",
        "\n",
        "#그리기\n",
        "img = image.numpy()  # image타입을 numpy로 변환 (3,32,32)\n",
        "\n",
        "# (3,32,32) -> (32,32,3)\n",
        "r,g,b = img[0,:,:], img[1,:,:], img[2,:,:]\n",
        "#img = img.reshape(img.shape[1], img.shape[2], img.shape[0])\n",
        "img2 = np.zeros((img.shape[1], img.shape[2], img.shape[0]))\n",
        "img2[:,:,0], img2[:,:,1], img2[:,:,2] = r,g,b\n",
        "\n",
        "plt.title(\"label: %d\" %label )\n",
        "plt.imshow(img2,interpolation='bicubic')\n",
        "plt.show()"
      ],
      "execution_count": 59,
      "outputs": [
        {
          "output_type": "stream",
          "text": [
            "Clipping input data to the valid range for imshow with RGB data ([0..1] for floats or [0..255] for integers).\n"
          ],
          "name": "stderr"
        },
        {
          "output_type": "stream",
          "text": [
            "cifar_train 길이: 50000\n",
            "cifar_test 길이: 10000\n",
            "image data 형태: torch.Size([3, 32, 32])\n",
            "label:  7\n"
          ],
          "name": "stdout"
        },
        {
          "output_type": "display_data",
          "data": {
            "image/png": "[encoded data removed]",
            "text/plain": [
              "<Figure size 432x288 with 1 Axes>"
            ]
          },
          "metadata": {
            "tags": [],
            "needs_background": "light"
          }
        }
      ]
    },
    {
      "cell_type": "code",
      "metadata": {
        "id": "GR5Y6VXdDuj-"
      },
      "source": [
        "def ComputeAccr(dloader, imodel):\n",
        "  correct = 0\n",
        "  total = 0\n",
        "\n",
        "  for j, [imgs,labels] in enumerate(dloader): #batch_size만큼 \n",
        "    img = Variable(imgs,requires_grad = True).cuda()\n",
        "    label = Variable(labels).cuda()\n",
        "\n",
        "    output = imodel.forward(img) # forward prop.\n",
        "    _, output_index = torch.max(output,1)\n",
        "\n",
        "    total += label.size(0)\n",
        "    correct += (output_index == label).sum().float()\n",
        "  print(\"Accuracy of Test Data: {}\".format(100*correct/total))"
      ],
      "execution_count": 60,
      "outputs": []
    },
    {
      "cell_type": "code",
      "metadata": {
        "id": "rk-piEHy2MeX"
      },
      "source": [
        "# === 3. 데이터 로드함수 ===\n",
        "train_loader=torch.utils.data.DataLoader(list(cifar_train)[:], batch_size=batch_size, shuffle=True, num_workers=2, drop_last=True)\n",
        "test_loader=torch.utils.data.DataLoader(cifar_test, batch_size=batch_size, shuffle=False, num_workers=2, drop_last=True)\n",
        "\n",
        "# === 4. 모델 선언 ===\n",
        "class CNN(nn.Module):\n",
        "  def __init__(self):\n",
        "    super(CNN,self).__init__()\n",
        "    self.layer=nn.Sequential(\n",
        "        nn.Conv2d(3,16,3,padding=1),\n",
        "        nn.ELU(),\n",
        "        nn.Dropout2d(0.2),  # (2) drop out\n",
        "        nn.BatchNorm2d(16),  # (6) Batch normalization\n",
        "        nn.Conv2d(16,32,3,padding=1),\n",
        "        nn.ELU(),\n",
        "        nn.Dropout2d(0.2),\n",
        "        nn.BatchNorm2d(32),\n",
        "        nn.MaxPool2d(2,2),\n",
        "        nn.Conv2d(32,64,3,padding=1),\n",
        "        nn.ELU(),\n",
        "        nn.Dropout2d(0.2),\n",
        "        nn.BatchNorm2d(64),\n",
        "        nn.MaxPool2d(2,2)\n",
        "    )\n",
        "    self.fc_layer=nn.Sequential(\n",
        "        nn.Linear(64*8*8, 100),\n",
        "        nn.ELU(),\n",
        "        nn.Dropout2d(0.2),\n",
        "        nn.BatchNorm1d(100),\n",
        "        nn.Linear(100,10)\n",
        "    )\n",
        "     #(3) weight initialization\n",
        "    for m in self.modules():\n",
        "      if isinstance(m, nn.Conv2d):\n",
        "        init.kaiming_normal_(m.weight.data)  #REUL 일때\n",
        "        m.bias.data.fill_(0)\n",
        "      if isinstance(m, nn.Linear):\n",
        "        init.kaiming_normal_(m.weight.data)  \n",
        "        m.bias.data.fill_(0)\n",
        "  \n",
        "  def forward(self,x):\n",
        "    out=self.layer(x)\n",
        "    out=out.view(batch_size,-1)\n",
        "    out=self.fc_layer(out)\n",
        "\n",
        "    return out\n",
        "model=CNN().cuda()"
      ],
      "execution_count": 61,
      "outputs": []
    },
    {
      "cell_type": "code",
      "metadata": {
        "colab": {
          "base_uri": "https://localhost:8080/",
          "height": 0
        },
        "id": "NmaIz6VPCOi4",
        "outputId": "3946d153-593e-485e-b513-8fab57f2c1bb"
      },
      "source": [
        "# === 5. loss, optimizer ===\n",
        "loss_func=nn.CrossEntropyLoss()\n",
        "optimizer=torch.optim.SGD(model.parameters(), lr=learning_rate)\n",
        "#optimizer=torch.optim.Adam(model.parameters(), lr=learning_rate) # (6) Adam optimizer\n",
        "model.train()\n",
        "#scheduler = lr_scheduler.StepLR(optimizer, step_size=20, gamma=0.2) # (7) learning rate dacay\n",
        "\n",
        "# === 6. 학습 ===\n",
        "for i in range(num_epoch):\n",
        "  \n",
        "  for j, [image, label] in enumerate(train_loader):\n",
        "    x=Variable(image).cuda()\n",
        "    y_=Variable(label).cuda()\n",
        "\n",
        "    optimizer.zero_grad()\n",
        "    output=model.forward(x)\n",
        "    loss=loss_func(output,y_)\n",
        "    loss.backward()\n",
        "    optimizer.step()\n",
        "\n",
        "    if j%1000==0:\n",
        "      print(j,loss)\n",
        " "
      ],
      "execution_count": null,
      "outputs": [
        {
          "output_type": "stream",
          "text": [
            "0 tensor(3.0400, device='cuda:0', grad_fn=<NllLossBackward>)\n",
            "1000 tensor(1.8053, device='cuda:0', grad_fn=<NllLossBackward>)\n",
            "2000 tensor(1.4013, device='cuda:0', grad_fn=<NllLossBackward>)\n",
            "3000 tensor(2.0014, device='cuda:0', grad_fn=<NllLossBackward>)\n",
            "0 tensor(1.8190, device='cuda:0', grad_fn=<NllLossBackward>)\n",
            "1000 tensor(1.7702, device='cuda:0', grad_fn=<NllLossBackward>)\n",
            "2000 tensor(1.6196, device='cuda:0', grad_fn=<NllLossBackward>)\n",
            "3000 tensor(1.4377, device='cuda:0', grad_fn=<NllLossBackward>)\n",
            "0 tensor(1.3776, device='cuda:0', grad_fn=<NllLossBackward>)\n",
            "1000 tensor(1.1020, device='cuda:0', grad_fn=<NllLossBackward>)\n",
            "2000 tensor(1.4778, device='cuda:0', grad_fn=<NllLossBackward>)\n",
            "3000 tensor(1.4882, device='cuda:0', grad_fn=<NllLossBackward>)\n",
            "0 tensor(0.9258, device='cuda:0', grad_fn=<NllLossBackward>)\n",
            "1000 tensor(1.2273, device='cuda:0', grad_fn=<NllLossBackward>)\n",
            "2000 tensor(1.4088, device='cuda:0', grad_fn=<NllLossBackward>)\n",
            "3000 tensor(1.3446, device='cuda:0', grad_fn=<NllLossBackward>)\n",
            "0 tensor(1.1811, device='cuda:0', grad_fn=<NllLossBackward>)\n",
            "1000 tensor(0.9159, device='cuda:0', grad_fn=<NllLossBackward>)\n",
            "2000 tensor(1.2742, device='cuda:0', grad_fn=<NllLossBackward>)\n",
            "3000 tensor(1.2049, device='cuda:0', grad_fn=<NllLossBackward>)\n",
            "0 tensor(1.8089, device='cuda:0', grad_fn=<NllLossBackward>)\n",
            "1000 tensor(1.1063, device='cuda:0', grad_fn=<NllLossBackward>)\n",
            "2000 tensor(0.9866, device='cuda:0', grad_fn=<NllLossBackward>)\n",
            "3000 tensor(1.0966, device='cuda:0', grad_fn=<NllLossBackward>)\n",
            "0 tensor(1.1616, device='cuda:0', grad_fn=<NllLossBackward>)\n",
            "1000 tensor(0.9563, device='cuda:0', grad_fn=<NllLossBackward>)\n",
            "2000 tensor(1.0226, device='cuda:0', grad_fn=<NllLossBackward>)\n",
            "3000 tensor(1.2171, device='cuda:0', grad_fn=<NllLossBackward>)\n",
            "0 tensor(1.0012, device='cuda:0', grad_fn=<NllLossBackward>)\n",
            "1000 tensor(0.9130, device='cuda:0', grad_fn=<NllLossBackward>)\n",
            "2000 tensor(1.7951, device='cuda:0', grad_fn=<NllLossBackward>)\n",
            "3000 tensor(0.6968, device='cuda:0', grad_fn=<NllLossBackward>)\n",
            "0 tensor(0.5944, device='cuda:0', grad_fn=<NllLossBackward>)\n",
            "1000 tensor(1.9524, device='cuda:0', grad_fn=<NllLossBackward>)\n",
            "2000 tensor(1.0493, device='cuda:0', grad_fn=<NllLossBackward>)\n",
            "3000 tensor(1.1512, device='cuda:0', grad_fn=<NllLossBackward>)\n",
            "0 tensor(0.8942, device='cuda:0', grad_fn=<NllLossBackward>)\n",
            "1000 tensor(1.4415, device='cuda:0', grad_fn=<NllLossBackward>)\n",
            "2000 tensor(0.8834, device='cuda:0', grad_fn=<NllLossBackward>)\n",
            "3000 tensor(0.8826, device='cuda:0', grad_fn=<NllLossBackward>)\n",
            "0 tensor(0.7844, device='cuda:0', grad_fn=<NllLossBackward>)\n",
            "1000 tensor(1.0896, device='cuda:0', grad_fn=<NllLossBackward>)\n",
            "2000 tensor(1.3617, device='cuda:0', grad_fn=<NllLossBackward>)\n",
            "3000 tensor(1.1227, device='cuda:0', grad_fn=<NllLossBackward>)\n",
            "0 tensor(1.6365, device='cuda:0', grad_fn=<NllLossBackward>)\n",
            "1000 tensor(1.6156, device='cuda:0', grad_fn=<NllLossBackward>)\n",
            "2000 tensor(0.8701, device='cuda:0', grad_fn=<NllLossBackward>)\n",
            "3000 tensor(0.9260, device='cuda:0', grad_fn=<NllLossBackward>)\n",
            "0 tensor(0.5815, device='cuda:0', grad_fn=<NllLossBackward>)\n",
            "1000 tensor(0.7837, device='cuda:0', grad_fn=<NllLossBackward>)\n",
            "2000 tensor(1.3991, device='cuda:0', grad_fn=<NllLossBackward>)\n",
            "3000 tensor(0.9926, device='cuda:0', grad_fn=<NllLossBackward>)\n",
            "0 tensor(1.1484, device='cuda:0', grad_fn=<NllLossBackward>)\n",
            "1000 tensor(1.0136, device='cuda:0', grad_fn=<NllLossBackward>)\n",
            "2000 tensor(0.6351, device='cuda:0', grad_fn=<NllLossBackward>)\n",
            "3000 tensor(0.9761, device='cuda:0', grad_fn=<NllLossBackward>)\n",
            "0 tensor(1.0773, device='cuda:0', grad_fn=<NllLossBackward>)\n",
            "1000 tensor(0.7325, device='cuda:0', grad_fn=<NllLossBackward>)\n",
            "2000 tensor(0.7040, device='cuda:0', grad_fn=<NllLossBackward>)\n",
            "3000 tensor(0.6397, device='cuda:0', grad_fn=<NllLossBackward>)\n",
            "0 tensor(0.7850, device='cuda:0', grad_fn=<NllLossBackward>)\n",
            "1000 tensor(1.5733, device='cuda:0', grad_fn=<NllLossBackward>)\n",
            "2000 tensor(1.1140, device='cuda:0', grad_fn=<NllLossBackward>)\n",
            "3000 tensor(0.4945, device='cuda:0', grad_fn=<NllLossBackward>)\n",
            "0 tensor(1.1617, device='cuda:0', grad_fn=<NllLossBackward>)\n",
            "1000 tensor(0.7782, device='cuda:0', grad_fn=<NllLossBackward>)\n",
            "2000 tensor(0.8165, device='cuda:0', grad_fn=<NllLossBackward>)\n",
            "3000 tensor(1.4422, device='cuda:0', grad_fn=<NllLossBackward>)\n",
            "0 tensor(1.2050, device='cuda:0', grad_fn=<NllLossBackward>)\n",
            "1000 tensor(0.6087, device='cuda:0', grad_fn=<NllLossBackward>)\n",
            "2000 tensor(1.0768, device='cuda:0', grad_fn=<NllLossBackward>)\n",
            "3000 tensor(0.9234, device='cuda:0', grad_fn=<NllLossBackward>)\n",
            "0 tensor(0.3120, device='cuda:0', grad_fn=<NllLossBackward>)\n",
            "1000 tensor(0.7440, device='cuda:0', grad_fn=<NllLossBackward>)\n",
            "2000 tensor(0.8918, device='cuda:0', grad_fn=<NllLossBackward>)\n",
            "3000 tensor(0.7721, device='cuda:0', grad_fn=<NllLossBackward>)\n",
            "0 tensor(0.6829, device='cuda:0', grad_fn=<NllLossBackward>)\n",
            "1000 tensor(0.5751, device='cuda:0', grad_fn=<NllLossBackward>)\n",
            "2000 tensor(1.2144, device='cuda:0', grad_fn=<NllLossBackward>)\n",
            "3000 tensor(0.4767, device='cuda:0', grad_fn=<NllLossBackward>)\n",
            "0 tensor(1.2096, device='cuda:0', grad_fn=<NllLossBackward>)\n",
            "1000 tensor(1.0967, device='cuda:0', grad_fn=<NllLossBackward>)\n",
            "2000 tensor(0.4914, device='cuda:0', grad_fn=<NllLossBackward>)\n",
            "3000 tensor(1.0906, device='cuda:0', grad_fn=<NllLossBackward>)\n",
            "0 tensor(0.7096, device='cuda:0', grad_fn=<NllLossBackward>)\n",
            "1000 tensor(1.1348, device='cuda:0', grad_fn=<NllLossBackward>)\n",
            "2000 tensor(0.9098, device='cuda:0', grad_fn=<NllLossBackward>)\n",
            "3000 tensor(1.1507, device='cuda:0', grad_fn=<NllLossBackward>)\n",
            "0 tensor(1.8152, device='cuda:0', grad_fn=<NllLossBackward>)\n",
            "1000 tensor(1.0667, device='cuda:0', grad_fn=<NllLossBackward>)\n",
            "2000 tensor(0.7693, device='cuda:0', grad_fn=<NllLossBackward>)\n",
            "3000 tensor(1.0229, device='cuda:0', grad_fn=<NllLossBackward>)\n",
            "0 tensor(1.3903, device='cuda:0', grad_fn=<NllLossBackward>)\n",
            "1000 tensor(0.7323, device='cuda:0', grad_fn=<NllLossBackward>)\n",
            "2000 tensor(0.9931, device='cuda:0', grad_fn=<NllLossBackward>)\n",
            "3000 tensor(0.7855, device='cuda:0', grad_fn=<NllLossBackward>)\n",
            "0 tensor(0.5935, device='cuda:0', grad_fn=<NllLossBackward>)\n",
            "1000 tensor(0.6760, device='cuda:0', grad_fn=<NllLossBackward>)\n",
            "2000 tensor(1.0370, device='cuda:0', grad_fn=<NllLossBackward>)\n",
            "3000 tensor(0.8597, device='cuda:0', grad_fn=<NllLossBackward>)\n",
            "0 tensor(0.5757, device='cuda:0', grad_fn=<NllLossBackward>)\n",
            "1000 tensor(0.6622, device='cuda:0', grad_fn=<NllLossBackward>)\n",
            "2000 tensor(0.9772, device='cuda:0', grad_fn=<NllLossBackward>)\n",
            "3000 tensor(1.6562, device='cuda:0', grad_fn=<NllLossBackward>)\n",
            "0 tensor(0.9288, device='cuda:0', grad_fn=<NllLossBackward>)\n",
            "1000 tensor(0.9593, device='cuda:0', grad_fn=<NllLossBackward>)\n",
            "2000 tensor(0.6251, device='cuda:0', grad_fn=<NllLossBackward>)\n",
            "3000 tensor(0.8379, device='cuda:0', grad_fn=<NllLossBackward>)\n",
            "0 tensor(0.7830, device='cuda:0', grad_fn=<NllLossBackward>)\n",
            "1000 tensor(0.8973, device='cuda:0', grad_fn=<NllLossBackward>)\n",
            "2000 tensor(1.1381, device='cuda:0', grad_fn=<NllLossBackward>)\n",
            "3000 tensor(0.5573, device='cuda:0', grad_fn=<NllLossBackward>)\n",
            "0 tensor(0.8820, device='cuda:0', grad_fn=<NllLossBackward>)\n",
            "1000 tensor(0.6899, device='cuda:0', grad_fn=<NllLossBackward>)\n",
            "2000 tensor(0.6321, device='cuda:0', grad_fn=<NllLossBackward>)\n",
            "3000 tensor(1.2060, device='cuda:0', grad_fn=<NllLossBackward>)\n",
            "0 tensor(0.7290, device='cuda:0', grad_fn=<NllLossBackward>)\n",
            "1000 tensor(0.9428, device='cuda:0', grad_fn=<NllLossBackward>)\n",
            "2000 tensor(1.1970, device='cuda:0', grad_fn=<NllLossBackward>)\n",
            "3000 tensor(0.7414, device='cuda:0', grad_fn=<NllLossBackward>)\n",
            "0 tensor(1.2504, device='cuda:0', grad_fn=<NllLossBackward>)\n",
            "1000 tensor(0.8477, device='cuda:0', grad_fn=<NllLossBackward>)\n",
            "2000 tensor(0.5501, device='cuda:0', grad_fn=<NllLossBackward>)\n",
            "3000 tensor(0.6091, device='cuda:0', grad_fn=<NllLossBackward>)\n",
            "0 tensor(0.7034, device='cuda:0', grad_fn=<NllLossBackward>)\n",
            "1000 tensor(0.3923, device='cuda:0', grad_fn=<NllLossBackward>)\n",
            "2000 tensor(0.7165, device='cuda:0', grad_fn=<NllLossBackward>)\n",
            "3000 tensor(0.4663, device='cuda:0', grad_fn=<NllLossBackward>)\n",
            "0 tensor(0.8451, device='cuda:0', grad_fn=<NllLossBackward>)\n",
            "1000 tensor(0.6007, device='cuda:0', grad_fn=<NllLossBackward>)\n",
            "2000 tensor(0.9410, device='cuda:0', grad_fn=<NllLossBackward>)\n",
            "3000 tensor(0.6921, device='cuda:0', grad_fn=<NllLossBackward>)\n",
            "0 tensor(0.4817, device='cuda:0', grad_fn=<NllLossBackward>)\n",
            "1000 tensor(0.4895, device='cuda:0', grad_fn=<NllLossBackward>)\n",
            "2000 tensor(0.3812, device='cuda:0', grad_fn=<NllLossBackward>)\n",
            "3000 tensor(0.8037, device='cuda:0', grad_fn=<NllLossBackward>)\n",
            "0 tensor(0.7591, device='cuda:0', grad_fn=<NllLossBackward>)\n",
            "1000 tensor(0.6772, device='cuda:0', grad_fn=<NllLossBackward>)\n",
            "2000 tensor(0.6415, device='cuda:0', grad_fn=<NllLossBackward>)\n",
            "3000 tensor(0.8894, device='cuda:0', grad_fn=<NllLossBackward>)\n",
            "0 tensor(0.5135, device='cuda:0', grad_fn=<NllLossBackward>)\n",
            "1000 tensor(1.4052, device='cuda:0', grad_fn=<NllLossBackward>)\n",
            "2000 tensor(0.5169, device='cuda:0', grad_fn=<NllLossBackward>)\n",
            "3000 tensor(0.7312, device='cuda:0', grad_fn=<NllLossBackward>)\n",
            "0 tensor(0.2650, device='cuda:0', grad_fn=<NllLossBackward>)\n",
            "1000 tensor(0.8001, device='cuda:0', grad_fn=<NllLossBackward>)\n",
            "2000 tensor(0.9425, device='cuda:0', grad_fn=<NllLossBackward>)\n",
            "3000 tensor(0.5610, device='cuda:0', grad_fn=<NllLossBackward>)\n",
            "0 tensor(0.7847, device='cuda:0', grad_fn=<NllLossBackward>)\n",
            "1000 tensor(0.6121, device='cuda:0', grad_fn=<NllLossBackward>)\n",
            "2000 tensor(0.6106, device='cuda:0', grad_fn=<NllLossBackward>)\n",
            "3000 tensor(0.8270, device='cuda:0', grad_fn=<NllLossBackward>)\n",
            "0 tensor(0.6172, device='cuda:0', grad_fn=<NllLossBackward>)\n",
            "1000 tensor(0.4598, device='cuda:0', grad_fn=<NllLossBackward>)\n",
            "2000 tensor(0.5524, device='cuda:0', grad_fn=<NllLossBackward>)\n",
            "3000 tensor(0.9492, device='cuda:0', grad_fn=<NllLossBackward>)\n",
            "0 tensor(0.3610, device='cuda:0', grad_fn=<NllLossBackward>)\n",
            "1000 tensor(0.7773, device='cuda:0', grad_fn=<NllLossBackward>)\n",
            "2000 tensor(0.6264, device='cuda:0', grad_fn=<NllLossBackward>)\n",
            "3000 tensor(0.8238, device='cuda:0', grad_fn=<NllLossBackward>)\n",
            "0 tensor(0.7530, device='cuda:0', grad_fn=<NllLossBackward>)\n",
            "1000 tensor(0.2722, device='cuda:0', grad_fn=<NllLossBackward>)\n",
            "2000 tensor(0.6498, device='cuda:0', grad_fn=<NllLossBackward>)\n",
            "3000 tensor(0.2494, device='cuda:0', grad_fn=<NllLossBackward>)\n",
            "0 tensor(0.3756, device='cuda:0', grad_fn=<NllLossBackward>)\n",
            "1000 tensor(0.5945, device='cuda:0', grad_fn=<NllLossBackward>)\n",
            "2000 tensor(0.5437, device='cuda:0', grad_fn=<NllLossBackward>)\n",
            "3000 tensor(0.5436, device='cuda:0', grad_fn=<NllLossBackward>)\n",
            "0 tensor(0.3757, device='cuda:0', grad_fn=<NllLossBackward>)\n",
            "1000 tensor(0.4560, device='cuda:0', grad_fn=<NllLossBackward>)\n",
            "2000 tensor(0.4316, device='cuda:0', grad_fn=<NllLossBackward>)\n",
            "3000 tensor(0.8769, device='cuda:0', grad_fn=<NllLossBackward>)\n",
            "0 tensor(0.7148, device='cuda:0', grad_fn=<NllLossBackward>)\n",
            "1000 tensor(1.0144, device='cuda:0', grad_fn=<NllLossBackward>)\n",
            "2000 tensor(0.7159, device='cuda:0', grad_fn=<NllLossBackward>)\n",
            "3000 tensor(1.3052, device='cuda:0', grad_fn=<NllLossBackward>)\n",
            "0 tensor(0.5562, device='cuda:0', grad_fn=<NllLossBackward>)\n",
            "1000 tensor(0.7533, device='cuda:0', grad_fn=<NllLossBackward>)\n",
            "2000 tensor(0.8154, device='cuda:0', grad_fn=<NllLossBackward>)\n",
            "3000 tensor(0.4448, device='cuda:0', grad_fn=<NllLossBackward>)\n",
            "0 tensor(0.8047, device='cuda:0', grad_fn=<NllLossBackward>)\n",
            "1000 tensor(0.6213, device='cuda:0', grad_fn=<NllLossBackward>)\n",
            "2000 tensor(0.3870, device='cuda:0', grad_fn=<NllLossBackward>)\n",
            "3000 tensor(0.2925, device='cuda:0', grad_fn=<NllLossBackward>)\n",
            "0 tensor(0.4049, device='cuda:0', grad_fn=<NllLossBackward>)\n",
            "1000 tensor(0.5387, device='cuda:0', grad_fn=<NllLossBackward>)\n",
            "2000 tensor(0.4853, device='cuda:0', grad_fn=<NllLossBackward>)\n",
            "3000 tensor(0.3217, device='cuda:0', grad_fn=<NllLossBackward>)\n",
            "0 tensor(0.7627, device='cuda:0', grad_fn=<NllLossBackward>)\n",
            "1000 tensor(0.5667, device='cuda:0', grad_fn=<NllLossBackward>)\n",
            "2000 tensor(0.4890, device='cuda:0', grad_fn=<NllLossBackward>)\n",
            "3000 tensor(0.8223, device='cuda:0', grad_fn=<NllLossBackward>)\n",
            "0 tensor(0.5797, device='cuda:0', grad_fn=<NllLossBackward>)\n",
            "1000 tensor(1.2448, device='cuda:0', grad_fn=<NllLossBackward>)\n",
            "2000 tensor(0.9233, device='cuda:0', grad_fn=<NllLossBackward>)\n",
            "3000 tensor(0.5750, device='cuda:0', grad_fn=<NllLossBackward>)\n",
            "0 tensor(0.9066, device='cuda:0', grad_fn=<NllLossBackward>)\n",
            "1000 tensor(0.8024, device='cuda:0', grad_fn=<NllLossBackward>)\n",
            "2000 tensor(0.6156, device='cuda:0', grad_fn=<NllLossBackward>)\n",
            "3000 tensor(0.8465, device='cuda:0', grad_fn=<NllLossBackward>)\n",
            "0 tensor(0.5745, device='cuda:0', grad_fn=<NllLossBackward>)\n",
            "1000 tensor(0.5923, device='cuda:0', grad_fn=<NllLossBackward>)\n",
            "2000 tensor(0.7708, device='cuda:0', grad_fn=<NllLossBackward>)\n",
            "3000 tensor(0.7759, device='cuda:0', grad_fn=<NllLossBackward>)\n",
            "0 tensor(0.5734, device='cuda:0', grad_fn=<NllLossBackward>)\n",
            "1000 tensor(0.2818, device='cuda:0', grad_fn=<NllLossBackward>)\n",
            "2000 tensor(0.4008, device='cuda:0', grad_fn=<NllLossBackward>)\n",
            "3000 tensor(1.2723, device='cuda:0', grad_fn=<NllLossBackward>)\n",
            "0 tensor(0.5491, device='cuda:0', grad_fn=<NllLossBackward>)\n",
            "1000 tensor(0.3907, device='cuda:0', grad_fn=<NllLossBackward>)\n",
            "2000 tensor(0.8945, device='cuda:0', grad_fn=<NllLossBackward>)\n",
            "3000 tensor(0.7484, device='cuda:0', grad_fn=<NllLossBackward>)\n",
            "0 tensor(0.9848, device='cuda:0', grad_fn=<NllLossBackward>)\n",
            "1000 tensor(1.0176, device='cuda:0', grad_fn=<NllLossBackward>)\n",
            "2000 tensor(0.5894, device='cuda:0', grad_fn=<NllLossBackward>)\n",
            "3000 tensor(0.7652, device='cuda:0', grad_fn=<NllLossBackward>)\n",
            "0 tensor(0.4907, device='cuda:0', grad_fn=<NllLossBackward>)\n",
            "1000 tensor(0.7797, device='cuda:0', grad_fn=<NllLossBackward>)\n",
            "2000 tensor(0.6429, device='cuda:0', grad_fn=<NllLossBackward>)\n",
            "3000 tensor(0.6828, device='cuda:0', grad_fn=<NllLossBackward>)\n",
            "0 tensor(0.5423, device='cuda:0', grad_fn=<NllLossBackward>)\n",
            "1000 tensor(0.2780, device='cuda:0', grad_fn=<NllLossBackward>)\n",
            "2000 tensor(0.6618, device='cuda:0', grad_fn=<NllLossBackward>)\n",
            "3000 tensor(0.5398, device='cuda:0', grad_fn=<NllLossBackward>)\n",
            "0 tensor(0.8265, device='cuda:0', grad_fn=<NllLossBackward>)\n"
          ],
          "name": "stdout"
        }
      ]
    },
    {
      "cell_type": "markdown",
      "metadata": {
        "id": "D0apVelMOdDO"
      },
      "source": [
        "## (0) Naive Test"
      ]
    },
    {
      "cell_type": "code",
      "metadata": {
        "colab": {
          "base_uri": "https://localhost:8080/"
        },
        "id": "BV4vmngzOIEP",
        "outputId": "c8a471b3-055e-460f-922a-8c646640727f"
      },
      "source": [
        "#model.eval()\n",
        "ComputeAccr(test_loader,model)"
      ],
      "execution_count": null,
      "outputs": [
        {
          "output_type": "stream",
          "text": [
            "Accuracy of Test Data: 23.34000015258789\n"
          ],
          "name": "stdout"
        }
      ]
    },
    {
      "cell_type": "markdown",
      "metadata": {
        "id": "33_B12mMWr6l"
      },
      "source": [
        "## (1) drop out"
      ]
    },
    {
      "cell_type": "code",
      "metadata": {
        "colab": {
          "base_uri": "https://localhost:8080/"
        },
        "id": "K6q4kWWWOZsQ",
        "outputId": "2c8c7cc8-da1c-4f14-f54e-e95199087d13"
      },
      "source": [
        "ComputeAccr(test_loader,model)"
      ],
      "execution_count": null,
      "outputs": [
        {
          "output_type": "stream",
          "text": [
            "Accuracy of Test Data: 17.829999923706055\n"
          ],
          "name": "stdout"
        }
      ]
    },
    {
      "cell_type": "markdown",
      "metadata": {
        "id": "mTYixp44XuEq"
      },
      "source": [
        "## (2) Data augmentation"
      ]
    },
    {
      "cell_type": "code",
      "metadata": {
        "colab": {
          "base_uri": "https://localhost:8080/"
        },
        "id": "w69-zCUDX2Hw",
        "outputId": "1bcd32c4-0e42-4c21-a9db-a6d503138caa"
      },
      "source": [
        "ComputeAccr(test_loader,model)"
      ],
      "execution_count": null,
      "outputs": [
        {
          "output_type": "stream",
          "text": [
            "Accuracy of Test Data: 12.520000457763672\n"
          ],
          "name": "stdout"
        }
      ]
    },
    {
      "cell_type": "markdown",
      "metadata": {
        "id": "mmZm9Mi9bcpp"
      },
      "source": [
        "## (3) Weight initialization"
      ]
    },
    {
      "cell_type": "code",
      "metadata": {
        "colab": {
          "base_uri": "https://localhost:8080/"
        },
        "id": "LAxUuh6-bdAB",
        "outputId": "5410532a-de99-4cbf-a753-67a9066e4589"
      },
      "source": [
        "ComputeAccr(test_loader,model)"
      ],
      "execution_count": null,
      "outputs": [
        {
          "output_type": "stream",
          "text": [
            "Accuracy of Test Data: 41.5\n"
          ],
          "name": "stdout"
        }
      ]
    },
    {
      "cell_type": "markdown",
      "metadata": {
        "id": "P501DABddHmx"
      },
      "source": [
        "## (4) Data Normalization"
      ]
    },
    {
      "cell_type": "code",
      "metadata": {
        "colab": {
          "base_uri": "https://localhost:8080/"
        },
        "id": "1c9pgQnbdH0g",
        "outputId": "eb913d34-bf2e-4973-f1d1-179e07441461"
      },
      "source": [
        "ComputeAccr(test_loader,model)"
      ],
      "execution_count": null,
      "outputs": [
        {
          "output_type": "stream",
          "text": [
            "Accuracy of Test Data: 31.799999237060547\n"
          ],
          "name": "stdout"
        }
      ]
    },
    {
      "cell_type": "markdown",
      "metadata": {
        "id": "MXh9_m93dIGb"
      },
      "source": [
        "## (5) Batch normalization"
      ]
    },
    {
      "cell_type": "code",
      "metadata": {
        "colab": {
          "base_uri": "https://localhost:8080/"
        },
        "id": "xgRaX2wrdIWb",
        "outputId": "8d6c0c8e-e4b9-47f2-f9c3-4a1e717e55de"
      },
      "source": [
        "ComputeAccr(test_loader,model)"
      ],
      "execution_count": null,
      "outputs": [
        {
          "output_type": "stream",
          "text": [
            "Accuracy of Test Data: 59.95000076293945\n"
          ],
          "name": "stdout"
        }
      ]
    },
    {
      "cell_type": "markdown",
      "metadata": {
        "id": "7dlmPyFOdK5W"
      },
      "source": [
        "## (6) Adam optimizer"
      ]
    },
    {
      "cell_type": "code",
      "metadata": {
        "colab": {
          "base_uri": "https://localhost:8080/"
        },
        "id": "lJvP5T1idLDO",
        "outputId": "c4a58667-0891-4d63-8b40-b542850a93e9"
      },
      "source": [
        "ComputeAccr(test_loader,model)"
      ],
      "execution_count": null,
      "outputs": [
        {
          "output_type": "stream",
          "text": [
            "Accuracy of Test Data: 60.08000183105469\n"
          ],
          "name": "stdout"
        }
      ]
    },
    {
      "cell_type": "markdown",
      "metadata": {
        "id": "NcJNSw-ddLKc"
      },
      "source": [
        "## (7) learning rate dacay"
      ]
    },
    {
      "cell_type": "code",
      "metadata": {
        "colab": {
          "base_uri": "https://localhost:8080/"
        },
        "id": "N2NUEYCjdLSX",
        "outputId": "27240503-0af6-4f19-e165-1e77eabb178c"
      },
      "source": [
        "ComputeAccr(test_loader,model)"
      ],
      "execution_count": null,
      "outputs": [
        {
          "output_type": "stream",
          "text": [
            "Accuracy of Test Data: 65.6199951171875\n"
          ],
          "name": "stdout"
        }
      ]
    },
    {
      "cell_type": "markdown",
      "metadata": {
        "id": "kxaEIuRsq-Q8"
      },
      "source": [
        "## `Weight initialization + learning rate dacay`"
      ]
    },
    {
      "cell_type": "code",
      "metadata": {
        "colab": {
          "base_uri": "https://localhost:8080/"
        },
        "id": "opA7WN24q9xv",
        "outputId": "26239680-b5b2-4e28-9776-1f945eec264a"
      },
      "source": [
        "ComputeAccr(test_loader,model)"
      ],
      "execution_count": null,
      "outputs": [
        {
          "output_type": "stream",
          "text": [
            "Accuracy of Test Data: 68.58999633789062\n"
          ],
          "name": "stdout"
        }
      ]
    },
    {
      "cell_type": "markdown",
      "metadata": {
        "id": "LcrgW4zUuJVe"
      },
      "source": [
        "## drop out + Weight initialization + learning rate dacay  (epoch=40) "
      ]
    },
    {
      "cell_type": "code",
      "metadata": {
        "colab": {
          "base_uri": "https://localhost:8080/"
        },
        "id": "OhmOtN4LuJhk",
        "outputId": "f74e6654-c77e-4bb3-9da4-943a261a21fa"
      },
      "source": [
        "ComputeAccr(test_loader,model)"
      ],
      "execution_count": null,
      "outputs": [
        {
          "output_type": "stream",
          "text": [
            "Accuracy of Test Data: 69.65999603271484\n"
          ],
          "name": "stdout"
        }
      ]
    },
    {
      "cell_type": "markdown",
      "metadata": {
        "id": "opzIBSW2xOyu"
      },
      "source": [
        "## drop out + Weight initialization + Batch normalization +learning rate dacay"
      ]
    },
    {
      "cell_type": "code",
      "metadata": {
        "colab": {
          "base_uri": "https://localhost:8080/"
        },
        "id": "_C5ifee7xPFe",
        "outputId": "b774cb7d-c51c-4eef-d9d9-4db68fac424a"
      },
      "source": [
        "ComputeAccr(test_loader,model)"
      ],
      "execution_count": null,
      "outputs": [
        {
          "output_type": "stream",
          "text": [
            "Accuracy of Test Data: 65.94999694824219\n"
          ],
          "name": "stdout"
        }
      ]
    },
    {
      "cell_type": "markdown",
      "metadata": {
        "id": "fwR2a7xJ2t7v"
      },
      "source": [
        "## drop out + Weight initialization + Batch normalization + ELU "
      ]
    },
    {
      "cell_type": "code",
      "metadata": {
        "colab": {
          "base_uri": "https://localhost:8080/"
        },
        "id": "juh8XQg02uFJ",
        "outputId": "39d1cf85-740e-4ad5-904c-dd5c371413eb"
      },
      "source": [
        "ComputeAccr(test_loader,model)"
      ],
      "execution_count": null,
      "outputs": [
        {
          "output_type": "stream",
          "text": [
            "Accuracy of Test Data: 66.26000213623047\n"
          ],
          "name": "stdout"
        }
      ]
    },
    {
      "cell_type": "markdown",
      "metadata": {
        "id": "a3_c7Mgq8Qao"
      },
      "source": [
        "## drop out + Weight initialization + learning rate dacay + batch_size=32, epoch=60"
      ]
    },
    {
      "cell_type": "code",
      "metadata": {
        "colab": {
          "base_uri": "https://localhost:8080/"
        },
        "id": "dNsESBoa8Qpz",
        "outputId": "cf188901-1f86-42ab-84a2-cecb6cfadee5"
      },
      "source": [
        "model.eval()\n",
        "ComputeAccr(test_loader,model)"
      ],
      "execution_count": null,
      "outputs": [
        {
          "output_type": "stream",
          "text": [
            "Accuracy of Test Data: 69.05048370361328\n"
          ],
          "name": "stdout"
        }
      ]
    },
    {
      "cell_type": "markdown",
      "metadata": {
        "id": "Aw9SAmFt_Cpr"
      },
      "source": [
        "## drop out + Weight initialization + learning rate dacay + batch_size=64, epoch= 40"
      ]
    },
    {
      "cell_type": "code",
      "metadata": {
        "colab": {
          "base_uri": "https://localhost:8080/"
        },
        "id": "BYpMgLnQ--uE",
        "outputId": "a1c0f360-32ec-45b5-cbcd-c2b572241182"
      },
      "source": [
        "model.eval()\n",
        "ComputeAccr(test_loader,model)"
      ],
      "execution_count": null,
      "outputs": [
        {
          "output_type": "stream",
          "text": [
            "Accuracy of Test Data: 68.09896087646484\n"
          ],
          "name": "stdout"
        }
      ]
    },
    {
      "cell_type": "markdown",
      "metadata": {
        "id": "WPCFZ58AAGhY"
      },
      "source": [
        "## drop out + Weight initialization + learning rate dacay + batch_size=32, epoch= 100"
      ]
    },
    {
      "cell_type": "code",
      "metadata": {
        "colab": {
          "base_uri": "https://localhost:8080/"
        },
        "id": "JA_5nt0hAGrC",
        "outputId": "86fcd076-5202-4bd9-f037-40e3da090d1a"
      },
      "source": [
        "model.eval()\n",
        "ComputeAccr(test_loader,model)"
      ],
      "execution_count": null,
      "outputs": [
        {
          "output_type": "stream",
          "text": [
            "Accuracy of Test Data: 66.78685760498047\n"
          ],
          "name": "stdout"
        }
      ]
    },
    {
      "cell_type": "markdown",
      "metadata": {
        "id": "wijCSoa9C8-E"
      },
      "source": [
        "## drop out + Weight initialization + Data Normalization + Adam + batch_size=16, epoch=60"
      ]
    },
    {
      "cell_type": "code",
      "metadata": {
        "colab": {
          "base_uri": "https://localhost:8080/"
        },
        "id": "hfclRVESC9If",
        "outputId": "634f133a-e576-4ad5-f039-4b282f8ac56f"
      },
      "source": [
        "model.eval()\n",
        "ComputeAccr(test_loader,model)"
      ],
      "execution_count": null,
      "outputs": [
        {
          "output_type": "stream",
          "text": [
            "Accuracy of Test Data: 67.72999572753906\n"
          ],
          "name": "stdout"
        }
      ]
    },
    {
      "cell_type": "markdown",
      "metadata": {
        "id": "Tc0iAz4LCKMG"
      },
      "source": [
        "## drop out + Weight initialization + learning rate dacay (epoch 400)"
      ]
    },
    {
      "cell_type": "code",
      "metadata": {
        "colab": {
          "base_uri": "https://localhost:8080/"
        },
        "id": "nv41CnkqCKgR",
        "outputId": "d2d6a494-f267-41b9-87d4-53f6bb9982a1"
      },
      "source": [
        "model.eval()\n",
        "ComputeAccr(test_loader,model)"
      ],
      "execution_count": null,
      "outputs": [
        {
          "output_type": "stream",
          "text": [
            "Accuracy of Test Data: 68.6199951171875\n"
          ],
          "name": "stdout"
        }
      ]
    },
    {
      "cell_type": "markdown",
      "metadata": {
        "id": "0fxIggpDU-6w"
      },
      "source": [
        "## drop out + Weight initialization + learning rate dacay (epoch 150)"
      ]
    },
    {
      "cell_type": "code",
      "metadata": {
        "colab": {
          "base_uri": "https://localhost:8080/"
        },
        "id": "a94beugeU_F1",
        "outputId": "c6eafd8b-c95d-4be5-c10c-0cf29648dddd"
      },
      "source": [
        "model.eval()\n",
        "ComputeAccr(test_loader,model)"
      ],
      "execution_count": null,
      "outputs": [
        {
          "output_type": "stream",
          "text": [
            "Accuracy of Test Data: 69.25\n"
          ],
          "name": "stdout"
        }
      ]
    },
    {
      "cell_type": "markdown",
      "metadata": {
        "id": "wtqBgfjgdppr"
      },
      "source": [
        "## drop out + Data Normalization + learning rate dacay (epoch 150)"
      ]
    },
    {
      "cell_type": "code",
      "metadata": {
        "colab": {
          "base_uri": "https://localhost:8080/"
        },
        "id": "zjYHoKLAdp7B",
        "outputId": "5b35f15b-5ff5-4a9a-dac8-f930622e439a"
      },
      "source": [
        "model.eval()\n",
        "ComputeAccr(test_loader,model)"
      ],
      "execution_count": null,
      "outputs": [
        {
          "output_type": "stream",
          "text": [
            "Accuracy of Test Data: 67.43999481201172\n"
          ],
          "name": "stdout"
        }
      ]
    },
    {
      "cell_type": "markdown",
      "metadata": {
        "id": "S9eo7gHXlPgy"
      },
      "source": [
        "## drop out + Data Normalization + Batch normalization + learning rate dacay (epoch 150) "
      ]
    },
    {
      "cell_type": "code",
      "metadata": {
        "colab": {
          "base_uri": "https://localhost:8080/"
        },
        "id": "4BJF5uA-lPyW",
        "outputId": "e19ecda6-e120-4e3d-e276-945289463789"
      },
      "source": [
        "model.eval()\n",
        "ComputeAccr(test_loader,model)"
      ],
      "execution_count": null,
      "outputs": [
        {
          "output_type": "stream",
          "text": [
            "Accuracy of Test Data: 70.54000091552734\n"
          ],
          "name": "stdout"
        }
      ]
    },
    {
      "cell_type": "markdown",
      "metadata": {
        "id": "up8G8wgH1zOH"
      },
      "source": [
        "## drop out + Data Normalization + Batch normalization + learning rate dacay (epoch 150) Learning rate:0.005"
      ]
    },
    {
      "cell_type": "code",
      "metadata": {
        "colab": {
          "base_uri": "https://localhost:8080/"
        },
        "id": "wFP921gr1zbf",
        "outputId": "525bdde1-021b-495d-a855-64e23ae33373"
      },
      "source": [
        "model.eval()\n",
        "ComputeAccr(test_loader,model)"
      ],
      "execution_count": null,
      "outputs": [
        {
          "output_type": "stream",
          "text": [
            "Accuracy of Test Data: 72.86000061035156\n"
          ],
          "name": "stdout"
        }
      ]
    },
    {
      "cell_type": "markdown",
      "metadata": {
        "id": "23GP3apJ_mwX"
      },
      "source": [
        "## drop out + Data Normalization + Batch normalization + learning rate dacay (epoch 150) (Learning rate:0.005) (batch_size = 32)"
      ]
    },
    {
      "cell_type": "code",
      "metadata": {
        "colab": {
          "base_uri": "https://localhost:8080/"
        },
        "id": "uhyfun01_m9M",
        "outputId": "c2987dd9-5c2e-4d3e-a03f-d53333d56d53"
      },
      "source": [
        "model.eval()\n",
        "ComputeAccr(test_loader,model)"
      ],
      "execution_count": null,
      "outputs": [
        {
          "output_type": "stream",
          "text": [
            "Accuracy of Test Data: 72.37580108642578\n"
          ],
          "name": "stdout"
        }
      ]
    },
    {
      "cell_type": "markdown",
      "metadata": {
        "id": "e6WyYasSFB4a"
      },
      "source": [
        "## drop out + Data Normalization + Batch normalization + learning rate dacay (epoch 150) (Learning rate:0.006) "
      ]
    },
    {
      "cell_type": "code",
      "metadata": {
        "colab": {
          "base_uri": "https://localhost:8080/"
        },
        "id": "pMjN1IKQFCDE",
        "outputId": "0ee39982-7fca-4222-9253-2344488d3734"
      },
      "source": [
        "model.eval()\n",
        "ComputeAccr(test_loader,model)"
      ],
      "execution_count": null,
      "outputs": [
        {
          "output_type": "stream",
          "text": [
            "Accuracy of Test Data: 73.18999481201172\n"
          ],
          "name": "stdout"
        }
      ]
    },
    {
      "cell_type": "markdown",
      "metadata": {
        "id": "L6L6Zl7bMqNL"
      },
      "source": [
        "## drop out + Data Normalization + Batch normalization + learning rate dacay (epoch 100) (Learning rate:0.006) "
      ]
    },
    {
      "cell_type": "code",
      "metadata": {
        "colab": {
          "base_uri": "https://localhost:8080/"
        },
        "id": "2VPy-k4bMqiS",
        "outputId": "3e1b273c-9429-4860-c183-b67dee181b7f"
      },
      "source": [
        "model.eval()\n",
        "ComputeAccr(test_loader,model)"
      ],
      "execution_count": null,
      "outputs": [
        {
          "output_type": "stream",
          "text": [
            "Accuracy of Test Data: 72.20999908447266\n"
          ],
          "name": "stdout"
        }
      ]
    },
    {
      "cell_type": "markdown",
      "metadata": {
        "id": "wTx2q3DMR6EE"
      },
      "source": [
        "## drop out + Data Normalization + Batch normalization + learning rate dacay (epoch 250) (Learning rate:0.006)"
      ]
    },
    {
      "cell_type": "code",
      "metadata": {
        "colab": {
          "base_uri": "https://localhost:8080/"
        },
        "id": "ZiM2CgtwR6XA",
        "outputId": "039feb19-5045-42de-f798-c6e93ab251a4"
      },
      "source": [
        "model.eval()\n",
        "ComputeAccr(test_loader,model)"
      ],
      "execution_count": null,
      "outputs": [
        {
          "output_type": "stream",
          "text": [
            "Accuracy of Test Data: 72.83000183105469\n"
          ],
          "name": "stdout"
        }
      ]
    },
    {
      "cell_type": "markdown",
      "metadata": {
        "id": "Kv_0NylpeZUu"
      },
      "source": [
        "## drop out + Data Normalization + Batch normalization + learning rate dacay (epoch 150) (Learning rate:0.007)"
      ]
    },
    {
      "cell_type": "code",
      "metadata": {
        "colab": {
          "base_uri": "https://localhost:8080/"
        },
        "id": "H_YDVmQLeZnD",
        "outputId": "db4b4a45-20cc-4fda-b2ef-ce958965099b"
      },
      "source": [
        "model.eval()\n",
        "ComputeAccr(test_loader,model)"
      ],
      "execution_count": null,
      "outputs": [
        {
          "output_type": "stream",
          "text": [
            "Accuracy of Test Data: 73.04000091552734\n"
          ],
          "name": "stdout"
        }
      ]
    },
    {
      "cell_type": "markdown",
      "metadata": {
        "id": "G-QAGZ7zmIpk"
      },
      "source": [
        "## drop out + Data Normalization + Batch normalization + Weight initialization +learning rate dacay (epoch 150) (Learning rate:0.006)"
      ]
    },
    {
      "cell_type": "code",
      "metadata": {
        "colab": {
          "base_uri": "https://localhost:8080/"
        },
        "id": "En1jfzHRmJEm",
        "outputId": "c58e2621-ad0a-435a-cec0-23d96c496777"
      },
      "source": [
        "model.eval()\n",
        "ComputeAccr(test_loader,model)"
      ],
      "execution_count": null,
      "outputs": [
        {
          "output_type": "stream",
          "text": [
            "Accuracy of Test Data: 70.15999603271484\n"
          ],
          "name": "stdout"
        }
      ]
    },
    {
      "cell_type": "markdown",
      "metadata": {
        "id": "g2wf7jx5sxnB"
      },
      "source": [
        "## drop out + Data Augmentation + Batch normalization + learning rate dacay (epoch 60) (Learning rate:0.006)"
      ]
    },
    {
      "cell_type": "code",
      "metadata": {
        "colab": {
          "base_uri": "https://localhost:8080/",
          "height": 0
        },
        "id": "YHKMM4Bzsx0u",
        "outputId": "4ed67281-268b-4fd9-8c71-acfbb11a12b0"
      },
      "source": [
        "model.eval()\n",
        "ComputeAccr(test_loader,model)"
      ],
      "execution_count": 10,
      "outputs": [
        {
          "output_type": "stream",
          "text": [
            "Accuracy of Test Data: 28.399999618530273\n"
          ],
          "name": "stdout"
        }
      ]
    },
    {
      "cell_type": "markdown",
      "metadata": {
        "id": "GK-eDxQg2H4A"
      },
      "source": [
        "## drop out + Data Normalization + Batch normalization + learning rate dacay (epoch 60) (Learning rate:0.006)"
      ]
    },
    {
      "cell_type": "code",
      "metadata": {
        "colab": {
          "base_uri": "https://localhost:8080/",
          "height": 0
        },
        "id": "Xni6AteP2IFS",
        "outputId": "e9a6961e-8515-4ca8-ea33-196af0cee007"
      },
      "source": [
        "model.eval()\n",
        "ComputeAccr(test_loader,model)"
      ],
      "execution_count": 17,
      "outputs": [
        {
          "output_type": "stream",
          "text": [
            "Accuracy of Test Data: 72.22999572753906\n"
          ],
          "name": "stdout"
        }
      ]
    },
    {
      "cell_type": "markdown",
      "metadata": {
        "id": "HhBfAATqShO7"
      },
      "source": [
        "## drop out + Data Normalization + Batch normalization + learning rate dacay (epoch 150) (Learning rate:0.006)  (drop out에서 0,2 -> 0.2로 수정)"
      ]
    },
    {
      "cell_type": "code",
      "metadata": {
        "colab": {
          "base_uri": "https://localhost:8080/",
          "height": 0
        },
        "id": "HvEm3kT_ShcR",
        "outputId": "178ee146-5a7e-4a61-f95c-fe3951fb39eb"
      },
      "source": [
        "model.eval()\n",
        "ComputeAccr(test_loader,model)"
      ],
      "execution_count": 19,
      "outputs": [
        {
          "output_type": "stream",
          "text": [
            "Accuracy of Test Data: 74.0\n"
          ],
          "name": "stdout"
        }
      ]
    },
    {
      "cell_type": "markdown",
      "metadata": {
        "id": "SvI2VxjIdRHR"
      },
      "source": [
        "## drop out + Data Normalization + Batch normalization +(epoch 150) (Learning rate:0.006)\n"
      ]
    },
    {
      "cell_type": "code",
      "metadata": {
        "colab": {
          "base_uri": "https://localhost:8080/",
          "height": 0
        },
        "id": "9EKdXTx_dRWn",
        "outputId": "c45e8863-6d28-4737-ea2f-8db4437796f1"
      },
      "source": [
        "model.eval()\n",
        "ComputeAccr(test_loader,model)"
      ],
      "execution_count": 26,
      "outputs": [
        {
          "output_type": "stream",
          "text": [
            "Accuracy of Test Data: 74.40999603271484\n"
          ],
          "name": "stdout"
        }
      ]
    },
    {
      "cell_type": "markdown",
      "metadata": {
        "id": "uy3nR_iOnbIO"
      },
      "source": [
        "## drop out + Weight initialization + Data Normalization + Batch normalization +(epoch 150) (Learning rate:0.006)"
      ]
    },
    {
      "cell_type": "code",
      "metadata": {
        "colab": {
          "base_uri": "https://localhost:8080/",
          "height": 0
        },
        "id": "8OzSS-TKnbRu",
        "outputId": "9ea61896-225b-4581-809d-cbd1d7c8edb3"
      },
      "source": [
        "model.eval()\n",
        "ComputeAccr(test_loader,model)"
      ],
      "execution_count": 33,
      "outputs": [
        {
          "output_type": "stream",
          "text": [
            "Accuracy of Test Data: 74.1199951171875\n"
          ],
          "name": "stdout"
        }
      ]
    },
    {
      "cell_type": "markdown",
      "metadata": {
        "id": "sBBiaONXwIwA"
      },
      "source": [
        "## drop out + Weight initialization + Batch normalization +(epoch 150) (Learning rate:0.006)"
      ]
    },
    {
      "cell_type": "code",
      "metadata": {
        "colab": {
          "base_uri": "https://localhost:8080/",
          "height": 0
        },
        "id": "1Z0oYH0CwI8C",
        "outputId": "8fce1972-ec9f-401e-93d9-74ab92cee630"
      },
      "source": [
        "model.eval()\n",
        "ComputeAccr(test_loader,model)"
      ],
      "execution_count": 40,
      "outputs": [
        {
          "output_type": "stream",
          "text": [
            "Accuracy of Test Data: 73.36000061035156\n"
          ],
          "name": "stdout"
        }
      ]
    },
    {
      "cell_type": "markdown",
      "metadata": {
        "id": "wiD3VqqM_JMV"
      },
      "source": [
        "## drop out + Data Normalization + Batch normalization +ELU +(epoch 150) (Learning rate:0.006)"
      ]
    },
    {
      "cell_type": "code",
      "metadata": {
        "colab": {
          "base_uri": "https://localhost:8080/",
          "height": 0
        },
        "id": "cjJG1l2b_NTw",
        "outputId": "b9713b73-80b5-4291-c4ff-b1fad55e8aba"
      },
      "source": [
        "model.eval()\n",
        "netname = './nets/my_net25.pkl'\n",
        "torch.save(model, netname, )\n",
        "\n",
        "model = torch.load(netname)\n",
        "ComputeAccr(test_loader,model)"
      ],
      "execution_count": 49,
      "outputs": [
        {
          "output_type": "stream",
          "text": [
            "Accuracy of Test Data: 76.04999542236328\n"
          ],
          "name": "stdout"
        }
      ]
    },
    {
      "cell_type": "markdown",
      "metadata": {
        "id": "siajEALVJm2i"
      },
      "source": [
        "## drop out + Data Normalization + Batch normalization +ELU +(epoch 150) (Learning rate:0.006)   (model.train(), model.eval()을 학습 반복문안에)"
      ]
    },
    {
      "cell_type": "code",
      "metadata": {
        "colab": {
          "base_uri": "https://localhost:8080/",
          "height": 0
        },
        "id": "bjkzq052JnGr",
        "outputId": "c6b7b432-3d25-4a8c-9b0b-864600cfba2a"
      },
      "source": [
        "ComputeAccr(test_loader,model)"
      ],
      "execution_count": 56,
      "outputs": [
        {
          "output_type": "stream",
          "text": [
            "Accuracy of Test Data: 76.29999542236328\n"
          ],
          "name": "stdout"
        }
      ]
    },
    {
      "cell_type": "markdown",
      "metadata": {
        "id": "t3m2LucBS2iw"
      },
      "source": [
        "## drop out + Data Normalization + Batch normalization +ELU +(epoch 100) (Learning rate:0.006)"
      ]
    },
    {
      "cell_type": "code",
      "metadata": {
        "id": "yjgbzEhwS29x"
      },
      "source": [
        "model.eval()\n",
        "ComputeAccr(test_loader,model)"
      ],
      "execution_count": null,
      "outputs": []
    }
  ]
}