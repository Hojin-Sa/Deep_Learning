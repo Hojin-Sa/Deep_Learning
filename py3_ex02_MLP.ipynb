{
 "cells": [
  {
   "cell_type": "code",
   "execution_count": 1,
   "id": "artificial-bachelor",
   "metadata": {},
   "outputs": [],
   "source": [
    "import torch\n",
    "import torch.nn as nn\n",
    "import torch.optim as optim\n",
    "import torchvision.datasets as dset\n",
    "import torchvision.transforms as transforms\n",
    "from torch.utils.data import DataLoader\n",
    "from torch.autograd import Variable\n",
    "import matplotlib.pyplot as plt\n",
    "%matplotlib inline\n",
    "import numpy as np"
   ]
  },
  {
   "cell_type": "markdown",
   "id": "hawaiian-tenant",
   "metadata": {},
   "source": [
    "# 1. MNIST train, test dataset 가져오기"
   ]
  },
  {
   "cell_type": "code",
   "execution_count": 2,
   "id": "reliable-engagement",
   "metadata": {},
   "outputs": [],
   "source": [
    "# \"\": 현재 폴더에 MNIST 있음\n",
    "mnist_train=dset.MNIST(\"\", train=True,transform=transforms.ToTensor(),target_transform=None, download=True) #train 용으로 쓰겠다.\n",
    "mnist_test=dset.MNIST(\"\", train=False,transform=transforms.ToTensor(),target_transform=None, download=True) #test 용으로 쓰겠다."
   ]
  },
  {
   "cell_type": "markdown",
   "id": "greek-reproduction",
   "metadata": {},
   "source": [
    "# 2. 대략적인 데이터 형태"
   ]
  },
  {
   "cell_type": "code",
   "execution_count": 8,
   "id": "bearing-hepatitis",
   "metadata": {},
   "outputs": [
    {
     "name": "stdout",
     "output_type": "stream",
     "text": [
      "mnist_train 길이: 60000\n",
      "mnist_test 길이: 10000\n",
      "image data 형태: torch.Size([1, 28, 28])\n",
      "label:  5\n"
     ]
    },
    {
     "data": {
      "image/png": "[encoded data removed]",
      "text/plain": [
       "<Figure size 432x288 with 1 Axes>"
      ]
     },
     "metadata": {
      "needs_background": "light"
     },
     "output_type": "display_data"
    }
   ],
   "source": [
    "print(\"mnist_train 길이:\", len(mnist_train))\n",
    "print(\"mnist_test 길이:\", len(mnist_test))\n",
    "\n",
    "# 데이터 하나 형태\n",
    "image, label = mnist_train.__getitem__(0) # 0번째 데아터\n",
    "print (\"image data 형태:\", image.size())\n",
    "print (\"label: \", label)\n",
    "\n",
    "# 그리기\n",
    "img = image.numpy() # image타입을 numpy로 변환 (1,28,28)\n",
    "plt.title(\"label: %d\" %label )\n",
    "plt.imshow(img[0], cmap='gray')\n",
    "plt.show()"
   ]
  },
  {
   "cell_type": "markdown",
   "id": "opening-oracle",
   "metadata": {},
   "source": [
    "# 3. 데이터 로드함수"
   ]
  },
  {
   "cell_type": "markdown",
   "id": "incident-algebra",
   "metadata": {},
   "source": [
    "#### 학습시킬 때 batch_size 단위로 끊어서 로드하기 위함"
   ]
  },
  {
   "cell_type": "code",
   "execution_count": 9,
   "id": "solar-margin",
   "metadata": {},
   "outputs": [],
   "source": [
    "# hyper parameters\n",
    "batch_size = 1024\n",
    "learning_rate = 0.01 # 0.1, 0.01, 0.001, 0.0001, ...\n",
    "num_epoch = 400"
   ]
  },
  {
   "cell_type": "code",
   "execution_count": 10,
   "id": "destroyed-device",
   "metadata": {},
   "outputs": [],
   "source": [
    "train_loader = torch.utils.data.DataLoader(mnist_train, batch_size=batch_size, shuffle=True, num_workers=2, drop_last=True)\n",
    "test_loader = torch.utils.data.DataLoader(mnist_test, batch_size=batch_size, shuffle=False, num_workers=2, drop_last=True)"
   ]
  },
  {
   "cell_type": "markdown",
   "id": "limiting-prize",
   "metadata": {},
   "source": [
    "#### 데이터 로드함수 이해하기"
   ]
  },
  {
   "cell_type": "code",
   "execution_count": 11,
   "id": "moderate-reserve",
   "metadata": {},
   "outputs": [
    {
     "name": "stdout",
     "output_type": "stream",
     "text": [
      "[0]\n",
      "한번에 로드되는 데이터 크기: 1024\n"
     ]
    },
    {
     "data": {
      "image/png": "[encoded data removed]",
      "text/plain": [
       "<Figure size 432x288 with 1 Axes>"
      ]
     },
     "metadata": {
      "needs_background": "light"
     },
     "output_type": "display_data"
    },
    {
     "data": {
      "image/png": "[encoded data removed]",
      "text/plain": [
       "<Figure size 432x288 with 1 Axes>"
      ]
     },
     "metadata": {
      "needs_background": "light"
     },
     "output_type": "display_data"
    },
    {
     "data": {
      "image/png": "[encoded data removed]",
      "text/plain": [
       "<Figure size 432x288 with 1 Axes>"
      ]
     },
     "metadata": {
      "needs_background": "light"
     },
     "output_type": "display_data"
    },
    {
     "name": "stdout",
     "output_type": "stream",
     "text": [
      "[1]\n",
      "한번에 로드되는 데이터 크기: 1024\n"
     ]
    },
    {
     "data": {
      "image/png": "[encoded data removed]",
      "text/plain": [
       "<Figure size 432x288 with 1 Axes>"
      ]
     },
     "metadata": {
      "needs_background": "light"
     },
     "output_type": "display_data"
    },
    {
     "data": {
      "image/png": "[encoded data removed]",
      "text/plain": [
       "<Figure size 432x288 with 1 Axes>"
      ]
     },
     "metadata": {
      "needs_background": "light"
     },
     "output_type": "display_data"
    },
    {
     "data": {
      "image/png": "[encoded data removed]",
      "text/plain": [
       "<Figure size 432x288 with 1 Axes>"
      ]
     },
     "metadata": {
      "needs_background": "light"
     },
     "output_type": "display_data"
    },
    {
     "name": "stdout",
     "output_type": "stream",
     "text": [
      "[2]\n",
      "한번에 로드되는 데이터 크기: 1024\n"
     ]
    },
    {
     "data": {
      "image/png": "[encoded data removed]",
      "text/plain": [
       "<Figure size 432x288 with 1 Axes>"
      ]
     },
     "metadata": {
      "needs_background": "light"
     },
     "output_type": "display_data"
    },
    {
     "data": {
      "image/png": "[encoded data removed]",
      "text/plain": [
       "<Figure size 432x288 with 1 Axes>"
      ]
     },
     "metadata": {
      "needs_background": "light"
     },
     "output_type": "display_data"
    },
    {
     "data": {
      "image/png": "[encoded data removed]",
      "text/plain": [
       "<Figure size 432x288 with 1 Axes>"
      ]
     },
     "metadata": {
      "needs_background": "light"
     },
     "output_type": "display_data"
    },
    {
     "name": "stdout",
     "output_type": "stream",
     "text": [
      "[3]\n",
      "한번에 로드되는 데이터 크기: 1024\n"
     ]
    },
    {
     "data": {
      "image/png": "[encoded data removed]",
      "text/plain": [
       "<Figure size 432x288 with 1 Axes>"
      ]
     },
     "metadata": {
      "needs_background": "light"
     },
     "output_type": "display_data"
    },
    {
     "data": {
      "image/png": "[encoded data removed]",
      "text/plain": [
       "<Figure size 432x288 with 1 Axes>"
      ]
     },
     "metadata": {
      "needs_background": "light"
     },
     "output_type": "display_data"
    },
    {
     "data": {
      "image/png": "[encoded data removed]",
      "text/plain": [
       "<Figure size 432x288 with 1 Axes>"
      ]
     },
     "metadata": {
      "needs_background": "light"
     },
     "output_type": "display_data"
    },
    {
     "name": "stdout",
     "output_type": "stream",
     "text": [
      "[4]\n",
      "한번에 로드되는 데이터 크기: 1024\n"
     ]
    },
    {
     "data": {
      "image/png": "[encoded data removed]",
      "text/plain": [
       "<Figure size 432x288 with 1 Axes>"
      ]
     },
     "metadata": {
      "needs_background": "light"
     },
     "output_type": "display_data"
    },
    {
     "data": {
      "image/png": "[encoded data removed]",
      "text/plain": [
       "<Figure size 432x288 with 1 Axes>"
      ]
     },
     "metadata": {
      "needs_background": "light"
     },
     "output_type": "display_data"
    },
    {
     "data": {
      "image/png": "[encoded data removed]",
      "text/plain": [
       "<Figure size 432x288 with 1 Axes>"
      ]
     },
     "metadata": {
      "needs_background": "light"
     },
     "output_type": "display_data"
    },
    {
     "name": "stdout",
     "output_type": "stream",
     "text": [
      "[5]\n",
      "한번에 로드되는 데이터 크기: 1024\n"
     ]
    },
    {
     "data": {
      "image/png": "[encoded data removed]",
      "text/plain": [
       "<Figure size 432x288 with 1 Axes>"
      ]
     },
     "metadata": {
      "needs_background": "light"
     },
     "output_type": "display_data"
    },
    {
     "data": {
      "image/png": "[encoded data removed]",
      "text/plain": [
       "<Figure size 432x288 with 1 Axes>"
      ]
     },
     "metadata": {
      "needs_background": "light"
     },
     "output_type": "display_data"
    },
    {
     "data": {
      "image/png": "[encoded data removed]",
      "text/plain": [
       "<Figure size 432x288 with 1 Axes>"
      ]
     },
     "metadata": {
      "needs_background": "light"
     },
     "output_type": "display_data"
    }
   ],
   "source": [
    "n = 3 # 샘플로 그려볼 데이터 개수\n",
    "for i, [imgs, labels] in enumerate(test_loader):\n",
    "    if i>5:\n",
    "        break\n",
    "    \n",
    "    print (\"[%d]\" %i)\n",
    "    print (\"한번에 로드되는 데이터 크기:\", len(imgs))\n",
    "    \n",
    "    # 그리기\n",
    "    for j in range(n):\n",
    "        img = imgs[j].numpy() # image 타입을 numpy로 변환 (1,28,28)\n",
    "        img = img.reshape((img.shape[1], img.shape[2])) # (1,28,28) -> (28,28)\n",
    "        #print img.shape\n",
    "        \n",
    "        plt.subplot(1, n, j+1) # (1,3) 형태 플랏의 j번째 자리에 그리겠다~\n",
    "        plt.imshow(img, cmap='gray')\n",
    "        plt.show(\"label: &d\" %labels[j] )\n",
    "    plt.show()"
   ]
  },
  {
   "cell_type": "markdown",
   "id": "broken-world",
   "metadata": {},
   "source": [
    "# 모델 선언"
   ]
  },
  {
   "cell_type": "code",
   "execution_count": 12,
   "id": "careful-resistance",
   "metadata": {},
   "outputs": [],
   "source": [
    "# 모델 선언\n",
    "# * 퍼셉트론(2 hidden layer) *\n",
    "model = nn.Sequential(\n",
    "    nn.Linear(28*28,256),\n",
    "    nn.Sigmoid(),\n",
    "    nn.Linear(256,128),\n",
    "    nn.Linear(128,10),\n",
    ")\n",
    "# 파라미터 보기\n",
    "# print(list(model.parameters())) # 초기 파라미터 출력"
   ]
  },
  {
   "cell_type": "code",
   "execution_count": 13,
   "id": "characteristic-minority",
   "metadata": {},
   "outputs": [],
   "source": [
    "#model = model.cuda() #GPU머신 있으면~"
   ]
  },
  {
   "cell_type": "code",
   "execution_count": 14,
   "id": "matched-cleveland",
   "metadata": {},
   "outputs": [],
   "source": [
    "def ComputeAccr(dloader, imodel):\n",
    "    correct = 0\n",
    "    total = 0\n",
    "    \n",
    "    for j, [imgs, labels] in enumerate(dloader): # batch_size 만큼\n",
    "        img = imgs # x\n",
    "        label = Variable(labels) # y\n",
    "        #label = Variable(labels).cuda()\n",
    "        #.cuda() : GPU에 로드되기 위함. 만약 CPU로 설정되어 있다면 에러남\n",
    "        \n",
    "        # (batch_size, 1, 28, 28) -> (batch_size, 28, 28)\n",
    "        img = img.reshape((img.shape[0], img.shape[2], img.shape[3]))\n",
    "        # (batch_size, 28, 28) -> (batch_size, 28*28)\n",
    "        img = img.reshape((img.shape[0], img.shape[1]*img.shape[2]))\n",
    "        img = Variable(img, requires_grad=False)\n",
    "        #img = Variable(img, requires_grad=False).cuda()\n",
    "        \n",
    "        output = imodel(img) # forward propagation\n",
    "        _, output_index = torch.max(output, 1)\n",
    "        \n",
    "        total += label.size(0)\n",
    "        correct += (output_index == label).sum().float()\n",
    "    print(\"Accuracy of Test Data: {}\".format(100*correct/total))"
   ]
  },
  {
   "cell_type": "code",
   "execution_count": 15,
   "id": "devoted-monroe",
   "metadata": {},
   "outputs": [
    {
     "name": "stdout",
     "output_type": "stream",
     "text": [
      "Accuracy of Test Data: 10.188801765441895\n"
     ]
    }
   ],
   "source": [
    "ComputeAccr(test_loader, model)"
   ]
  },
  {
   "cell_type": "markdown",
   "id": "adapted-carrier",
   "metadata": {},
   "source": [
    "# 5. loss, optimizer"
   ]
  },
  {
   "cell_type": "code",
   "execution_count": null,
   "id": "caroline-anger",
   "metadata": {},
   "outputs": [],
   "source": [
    "loss_func = nn.CrossEntropyLoss() # logit(# of classes), target(1)\n",
    "optimizer = optim.SGD(model.parameters(), lr=learning_rate)"
   ]
  },
  {
   "cell_type": "markdown",
   "id": "entertaining-vermont",
   "metadata": {},
   "source": [
    "# 6. 학습"
   ]
  },
  {
   "cell_type": "code",
   "execution_count": null,
   "id": "assisted-punch",
   "metadata": {},
   "outputs": [],
   "source": [
    "num_epoch = 400\n",
    "for i in range(num_epoch):\n",
    "    for j, [imgs, labels] in enumerate(train_loader):\n",
    "        img = imgs # (batch_size, 1, 28, 28)\n",
    "        label = Variable(labels) # (batch_size)\n",
    "        \n",
    "        # (batch_size, 1, 28, 28) -> (batch_size, 28, 28)\n",
    "        img = img.reshape((img.shape[0], img.shape[2], img.shape[3]))\n",
    "        # (batch_size, 28, 28) -> (batch_size, 28*28)\n",
    "        img = img.reshape((img.shape[0], img.shape[1]*img.shape[2]))\n",
    "        img = Variable(img, requires_grad=True)\n",
    "        \n",
    "        optimizer.zero_grad()\n",
    "        output = model(img) # forward propagation\n",
    "        loss = loss_func(output, label) # logit(# of classes), target(1)\n",
    "        \n",
    "        loss.backward() # back propagation, weight 노드에 저장\n",
    "        optimizer.step() # weight 조정 , 노드에 저장된 Gradient 값으로 weight 업데이트\n",
    "        \n",
    "    if i%50==0:\n",
    "        print(\"%d..\" %i)\n",
    "        ComputeAccr(test_loader, model)\n",
    "        print(loss)"
   ]
  },
  {
   "cell_type": "markdown",
   "id": "stuck-collectible",
   "metadata": {},
   "source": [
    "# 7. 테스트"
   ]
  },
  {
   "cell_type": "code",
   "execution_count": null,
   "id": "turkish-baptist",
   "metadata": {},
   "outputs": [],
   "source": [
    "ComputeAccr(test_loader, model) "
   ]
  },
  {
   "cell_type": "markdown",
   "id": "palestinian-matter",
   "metadata": {},
   "source": [
    "# 8. 학습된 파라미터 저장"
   ]
  },
  {
   "cell_type": "code",
   "execution_count": null,
   "id": "laughing-concert",
   "metadata": {},
   "outputs": [],
   "source": [
    "netname - './nets/mlp_weight.pkl'\n",
    "torch.save(model, netname, )\n",
    "\n",
    "#model = torch.load(netname)"
   ]
  },
  {
   "cell_type": "markdown",
   "id": "increased-thing",
   "metadata": {},
   "source": [
    "# 9. (Optional) 실습1 에 쓰인 .npz 만드려면?"
   ]
  },
  {
   "cell_type": "code",
   "execution_count": null,
   "id": "through-transfer",
   "metadata": {},
   "outputs": [],
   "source": [
    "np.savez_compressed('.nets/mlp_weight.npz',\n",
    "                   W1=W1, b1=b1,\n",
    "                   W2=W2, b2=b2,\n",
    "                   W3=W3, b3=b3)"
   ]
  }
 ],
 "metadata": {
  "kernelspec": {
   "display_name": "conda_pytorch_p36",
   "language": "python",
   "name": "conda_pytorch_p36"
  },
  "language_info": {
   "codemirror_mode": {
    "name": "ipython",
    "version": 3
   },
   "file_extension": ".py",
   "mimetype": "text/x-python",
   "name": "python",
   "nbconvert_exporter": "python",
   "pygments_lexer": "ipython3",
   "version": "3.6.13"
  }
 },
 "nbformat": 4,
 "nbformat_minor": 5
}
